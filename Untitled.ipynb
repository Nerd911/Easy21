{
 "cells": [
  {
   "cell_type": "code",
   "execution_count": 1,
   "metadata": {},
   "outputs": [],
   "source": [
    "# %autoreload"
   ]
  },
  {
   "cell_type": "code",
   "execution_count": 2,
   "metadata": {},
   "outputs": [],
   "source": [
    "from src.montecarlostrategy import MonteCarloStrategy\n",
    "from src.player import Player\n",
    "from src.step import step\n",
    "from src.state import State, TerminalState\n",
    "from src.mse import mse\n",
    "import copy"
   ]
  },
  {
   "cell_type": "code",
   "execution_count": 3,
   "metadata": {},
   "outputs": [],
   "source": [
    "monte_carlo_player = Player(MonteCarloStrategy())"
   ]
  },
  {
   "cell_type": "code",
   "execution_count": 4,
   "metadata": {},
   "outputs": [],
   "source": [
    "MAX_PATIENCE = 1000"
   ]
  },
  {
   "cell_type": "code",
   "execution_count": 51,
   "metadata": {},
   "outputs": [
    {
     "output_type": "error",
     "ename": "KeyboardInterrupt",
     "evalue": "",
     "traceback": [
      "\u001b[1;31m---------------------------------------------------------------------------\u001b[0m",
      "\u001b[1;31mKeyboardInterrupt\u001b[0m                         Traceback (most recent call last)",
      "\u001b[1;32m<ipython-input-51-240068636d21>\u001b[0m in \u001b[0;36m<module>\u001b[1;34m\u001b[0m\n\u001b[0;32m      2\u001b[0m \u001b[0miterations\u001b[0m \u001b[1;33m=\u001b[0m \u001b[1;36m0\u001b[0m\u001b[1;33m\u001b[0m\u001b[1;33m\u001b[0m\u001b[0m\n\u001b[0;32m      3\u001b[0m \u001b[1;32mwhile\u001b[0m \u001b[0mdiff\u001b[0m \u001b[1;33m>\u001b[0m \u001b[1;36m1e-10\u001b[0m \u001b[1;32mor\u001b[0m \u001b[0miterations\u001b[0m \u001b[1;33m<=\u001b[0m \u001b[1;36m1e8\u001b[0m\u001b[1;33m:\u001b[0m\u001b[1;33m\u001b[0m\u001b[1;33m\u001b[0m\u001b[0m\n\u001b[1;32m----> 4\u001b[1;33m     \u001b[0mQ_prev\u001b[0m \u001b[1;33m=\u001b[0m \u001b[0mcopy\u001b[0m\u001b[1;33m.\u001b[0m\u001b[0mdeepcopy\u001b[0m\u001b[1;33m(\u001b[0m\u001b[0mmonte_carlo_player\u001b[0m\u001b[1;33m.\u001b[0m\u001b[0mstrategy\u001b[0m\u001b[1;33m.\u001b[0m\u001b[0mQ\u001b[0m\u001b[1;33m)\u001b[0m\u001b[1;33m\u001b[0m\u001b[1;33m\u001b[0m\u001b[0m\n\u001b[0m\u001b[0;32m      5\u001b[0m     \u001b[0mstate\u001b[0m \u001b[1;33m=\u001b[0m \u001b[0mState\u001b[0m\u001b[1;33m.\u001b[0m\u001b[0minit\u001b[0m\u001b[1;33m(\u001b[0m\u001b[1;33m)\u001b[0m\u001b[1;33m\u001b[0m\u001b[1;33m\u001b[0m\u001b[0m\n\u001b[0;32m      6\u001b[0m     \u001b[1;32mwhile\u001b[0m \u001b[1;32mnot\u001b[0m \u001b[0misinstance\u001b[0m\u001b[1;33m(\u001b[0m\u001b[0mstate\u001b[0m\u001b[1;33m,\u001b[0m \u001b[0mTerminalState\u001b[0m\u001b[1;33m)\u001b[0m\u001b[1;33m:\u001b[0m\u001b[1;33m\u001b[0m\u001b[1;33m\u001b[0m\u001b[0m\n",
      "\u001b[1;32m~\\Anaconda3\\lib\\copy.py\u001b[0m in \u001b[0;36mdeepcopy\u001b[1;34m(x, memo, _nil)\u001b[0m\n\u001b[0;32m    178\u001b[0m                     \u001b[0my\u001b[0m \u001b[1;33m=\u001b[0m \u001b[0mx\u001b[0m\u001b[1;33m\u001b[0m\u001b[1;33m\u001b[0m\u001b[0m\n\u001b[0;32m    179\u001b[0m                 \u001b[1;32melse\u001b[0m\u001b[1;33m:\u001b[0m\u001b[1;33m\u001b[0m\u001b[1;33m\u001b[0m\u001b[0m\n\u001b[1;32m--> 180\u001b[1;33m                     \u001b[0my\u001b[0m \u001b[1;33m=\u001b[0m \u001b[0m_reconstruct\u001b[0m\u001b[1;33m(\u001b[0m\u001b[0mx\u001b[0m\u001b[1;33m,\u001b[0m \u001b[0mmemo\u001b[0m\u001b[1;33m,\u001b[0m \u001b[1;33m*\u001b[0m\u001b[0mrv\u001b[0m\u001b[1;33m)\u001b[0m\u001b[1;33m\u001b[0m\u001b[1;33m\u001b[0m\u001b[0m\n\u001b[0m\u001b[0;32m    181\u001b[0m \u001b[1;33m\u001b[0m\u001b[0m\n\u001b[0;32m    182\u001b[0m     \u001b[1;31m# If is its own copy, don't memoize.\u001b[0m\u001b[1;33m\u001b[0m\u001b[1;33m\u001b[0m\u001b[1;33m\u001b[0m\u001b[0m\n",
      "\u001b[1;32m~\\Anaconda3\\lib\\copy.py\u001b[0m in \u001b[0;36m_reconstruct\u001b[1;34m(x, memo, func, args, state, listiter, dictiter, deepcopy)\u001b[0m\n\u001b[0;32m    304\u001b[0m             \u001b[1;32mfor\u001b[0m \u001b[0mkey\u001b[0m\u001b[1;33m,\u001b[0m \u001b[0mvalue\u001b[0m \u001b[1;32min\u001b[0m \u001b[0mdictiter\u001b[0m\u001b[1;33m:\u001b[0m\u001b[1;33m\u001b[0m\u001b[1;33m\u001b[0m\u001b[0m\n\u001b[0;32m    305\u001b[0m                 \u001b[0mkey\u001b[0m \u001b[1;33m=\u001b[0m \u001b[0mdeepcopy\u001b[0m\u001b[1;33m(\u001b[0m\u001b[0mkey\u001b[0m\u001b[1;33m,\u001b[0m \u001b[0mmemo\u001b[0m\u001b[1;33m)\u001b[0m\u001b[1;33m\u001b[0m\u001b[1;33m\u001b[0m\u001b[0m\n\u001b[1;32m--> 306\u001b[1;33m                 \u001b[0mvalue\u001b[0m \u001b[1;33m=\u001b[0m \u001b[0mdeepcopy\u001b[0m\u001b[1;33m(\u001b[0m\u001b[0mvalue\u001b[0m\u001b[1;33m,\u001b[0m \u001b[0mmemo\u001b[0m\u001b[1;33m)\u001b[0m\u001b[1;33m\u001b[0m\u001b[1;33m\u001b[0m\u001b[0m\n\u001b[0m\u001b[0;32m    307\u001b[0m                 \u001b[0my\u001b[0m\u001b[1;33m[\u001b[0m\u001b[0mkey\u001b[0m\u001b[1;33m]\u001b[0m \u001b[1;33m=\u001b[0m \u001b[0mvalue\u001b[0m\u001b[1;33m\u001b[0m\u001b[1;33m\u001b[0m\u001b[0m\n\u001b[0;32m    308\u001b[0m         \u001b[1;32melse\u001b[0m\u001b[1;33m:\u001b[0m\u001b[1;33m\u001b[0m\u001b[1;33m\u001b[0m\u001b[0m\n",
      "\u001b[1;32m~\\Anaconda3\\lib\\copy.py\u001b[0m in \u001b[0;36mdeepcopy\u001b[1;34m(x, memo, _nil)\u001b[0m\n\u001b[0;32m    147\u001b[0m \u001b[1;33m\u001b[0m\u001b[0m\n\u001b[0;32m    148\u001b[0m     \u001b[0mcopier\u001b[0m \u001b[1;33m=\u001b[0m \u001b[0m_deepcopy_dispatch\u001b[0m\u001b[1;33m.\u001b[0m\u001b[0mget\u001b[0m\u001b[1;33m(\u001b[0m\u001b[0mcls\u001b[0m\u001b[1;33m)\u001b[0m\u001b[1;33m\u001b[0m\u001b[1;33m\u001b[0m\u001b[0m\n\u001b[1;32m--> 149\u001b[1;33m     \u001b[1;32mif\u001b[0m \u001b[0mcopier\u001b[0m\u001b[1;33m:\u001b[0m\u001b[1;33m\u001b[0m\u001b[1;33m\u001b[0m\u001b[0m\n\u001b[0m\u001b[0;32m    150\u001b[0m         \u001b[0my\u001b[0m \u001b[1;33m=\u001b[0m \u001b[0mcopier\u001b[0m\u001b[1;33m(\u001b[0m\u001b[0mx\u001b[0m\u001b[1;33m,\u001b[0m \u001b[0mmemo\u001b[0m\u001b[1;33m)\u001b[0m\u001b[1;33m\u001b[0m\u001b[1;33m\u001b[0m\u001b[0m\n\u001b[0;32m    151\u001b[0m     \u001b[1;32melse\u001b[0m\u001b[1;33m:\u001b[0m\u001b[1;33m\u001b[0m\u001b[1;33m\u001b[0m\u001b[0m\n",
      "\u001b[1;31mKeyboardInterrupt\u001b[0m: "
     ]
    }
   ],
   "source": [
    "patience = MAX_PATIENCE\n",
    "iterations = 0\n",
    "while patience > 0 or iterations <= 1e6:\n",
    "    Q_prev = copy.deepcopy(monte_carlo_player.strategy.Q)\n",
    "    state = State.init()\n",
    "    while not isinstance(state, TerminalState):\n",
    "        action = monte_carlo_player.take_action(state)\n",
    "        state_prime, reward = step(state, action)\n",
    "        monte_carlo_player.update(state, action, state_prime, reward)\n",
    "        state = state_prime\n",
    "    Q = copy.deepcopy(monte_carlo_player.strategy.Q)\n",
    "    diff = mse(Q_prev, Q)\n",
    "    Q_prev = Q\n",
    "    iterations+=1\n",
    "    patience -= 1\n",
    "    if diff > 1e-10:\n",
    "        patience = MAX_PATIENCE"
   ]
  },
  {
   "cell_type": "code",
   "execution_count": 48,
   "metadata": {
    "tags": [
     "outputPrepend"
    ]
   },
   "outputs": [
    {
     "output_type": "stream",
     "name": "stdout",
     "text": [
      "52651B7C88>, <Action.HIT: 0>): 0.017142857142857126, (<src.state.State object at 0x00000252651B7748>, <Action.HIT: 0>): 0.0, (<src.state.State object at 0x00000252651B79E8>, <Action.STICK: 1>): 0.14285714285714285, (<src.state.State object at 0x00000252651B7EB8>, <Action.HIT: 0>): 0.4, (<src.state.State object at 0x00000252650C41D0>, <Action.STICK: 1>): -0.14285714285714282, (<src.state.State object at 0x00000252651B7B00>, <Action.HIT: 0>): -0.3333333333333333, (<src.state.State object at 0x0000025264491E80>, <Action.HIT: 0>): -0.24999999999999997, (<src.state.State object at 0x0000025264491C88>, <Action.STICK: 1>): 0.5, (<src.state.State object at 0x0000025264491CC0>, <Action.STICK: 1>): -0.25, (<src.state.State object at 0x0000025264491080>, <Action.HIT: 0>): -0.3333333333333333, (<src.state.State object at 0x00000252651B7710>, <Action.STICK: 1>): 1.0, (<src.state.State object at 0x0000025264405DA0>, <Action.STICK: 1>): -0.3333333333333333, (<src.state.State object at 0x0000025264491B38>, <Action.HIT: 0>): 0.0, (<src.state.State object at 0x0000025264405E10>, <Action.HIT: 0>): 0.0, (<src.state.State object at 0x0000025264405AC8>, <Action.STICK: 1>): 0.5, (<src.state.State object at 0x0000025264405550>, <Action.STICK: 1>): 1.0, (<src.state.State object at 0x0000025264405A20>, <Action.HIT: 0>): -0.6666666666666666, (<src.state.State object at 0x0000025264405FD0>, <Action.HIT: 0>): 0.14285714285714288, (<src.state.State object at 0x0000025264405400>, <Action.HIT: 0>): 0.14285714285714288, (<src.state.State object at 0x0000025264405668>, <Action.HIT: 0>): 0.0, (<src.state.State object at 0x00000252644054E0>, <Action.HIT: 0>): -0.5, (<src.state.State object at 0x0000025264405588>, <Action.HIT: 0>): -1.0, (<src.state.State object at 0x0000025264405518>, <Action.HIT: 0>): -1.0, (<src.state.State object at 0x00000252644058D0>, <Action.STICK: 1>): 0.09090909090909097, (<src.state.State object at 0x0000025264491160>, <Action.HIT: 0>): -0.041666666666666685, (<src.state.State object at 0x0000025264405BE0>, <Action.HIT: 0>): 0.0, (<src.state.State object at 0x0000025264FCA358>, <Action.STICK: 1>): -0.33333333333333337, (<src.state.State object at 0x0000025264FCA978>, <Action.HIT: 0>): -0.14285714285714282, (<src.state.State object at 0x0000025264FCAC50>, <Action.HIT: 0>): -0.2, (<src.state.State object at 0x0000025264FCA278>, <Action.HIT: 0>): 0.5, (<src.state.State object at 0x0000025264FCAD68>, <Action.HIT: 0>): 0.6, (<src.state.State object at 0x0000025264FCA940>, <Action.STICK: 1>): 1.0, (<src.state.State object at 0x0000025264FCAF60>, <Action.HIT: 0>): -0.11111111111111105, (<src.state.State object at 0x0000025264FCA898>, <Action.STICK: 1>): -1.0, (<src.state.State object at 0x0000025264FCAEF0>, <Action.STICK: 1>): 0.42857142857142855, (<src.state.State object at 0x0000025264FCA7B8>, <Action.HIT: 0>): -0.6666666666666666, (<src.state.State object at 0x0000025264FCA7F0>, <Action.STICK: 1>): -0.5, (<src.state.State object at 0x0000025264FCA908>, <Action.STICK: 1>): -0.07692307692307693, (<src.state.State object at 0x0000025264FCAA58>, <Action.STICK: 1>): 1.0, (<src.state.State object at 0x0000025264FCA710>, <Action.STICK: 1>): 2.7755575615628914e-17, (<src.state.State object at 0x0000025264405B00>, <Action.HIT: 0>): -0.2727272727272727, (<src.state.State object at 0x0000025264FCA240>, <Action.STICK: 1>): -0.2, (<src.state.State object at 0x000002526432A7B8>, <Action.HIT: 0>): -0.75, (<src.state.State object at 0x000002526432AE48>, <Action.HIT: 0>): 0.11111111111111108, (<src.state.State object at 0x000002526432A978>, <Action.STICK: 1>): 0.0, (<src.state.State object at 0x000002526432A828>, <Action.STICK: 1>): -0.6666666666666666, (<src.state.State object at 0x000002526432ACC0>, <Action.HIT: 0>): -0.6, (<src.state.State object at 0x000002526432AA20>, <Action.STICK: 1>): 0.2, (<src.state.State object at 0x000002526432A048>, <Action.STICK: 1>): -0.33333333333333337, (<src.state.State object at 0x000002526432A1D0>, <Action.HIT: 0>): -1.0, (<src.state.State object at 0x000002526432A898>, <Action.STICK: 1>): 0.5, (<src.state.State object at 0x000002526432A390>, <Action.STICK: 1>): -0.25, (<src.state.State object at 0x000002526432A860>, <Action.STICK: 1>): -0.6666666666666666, (<src.state.State object at 0x000002526432A438>, <Action.HIT: 0>): 0.25, (<src.state.State object at 0x000002526432AD68>, <Action.HIT: 0>): -2.7755575615628914e-17, (<src.state.State object at 0x000002526432AF98>, <Action.HIT: 0>): -0.5, (<src.state.State object at 0x000002526432A6D8>, <Action.STICK: 1>): 2.7755575615628914e-17, (<src.state.State object at 0x000002526432AA58>, <Action.HIT: 0>): -0.875, (<src.state.State object at 0x0000025264FCA400>, <Action.HIT: 0>): -1.0, (<src.state.State object at 0x000002526432A748>, <Action.STICK: 1>): 0.38461538461538464, (<src.state.State object at 0x00000252653CDA20>, <Action.STICK: 1>): -0.19999999999999998, (<src.state.State object at 0x00000252653CD6D8>, <Action.HIT: 0>): 0.0, (<src.state.State object at 0x00000252653CDAC8>, <Action.STICK: 1>): 0.33333333333333326, (<src.state.State object at 0x00000252653CDB70>, <Action.STICK: 1>): 1.0, (<src.state.State object at 0x00000252653CD208>, <Action.STICK: 1>): -0.4285714285714286, (<src.state.State object at 0x00000252653CD7F0>, <Action.HIT: 0>): -2.7755575615628914e-17, (<src.state.State object at 0x00000252653CDEB8>, <Action.STICK: 1>): 0.0, (<src.state.State object at 0x00000252653CD320>, <Action.STICK: 1>): -0.6, (<src.state.State object at 0x00000252653CD518>, <Action.HIT: 0>): 0.5, (<src.state.State object at 0x00000252653CD390>, <Action.STICK: 1>): 0.6666666666666666, (<src.state.State object at 0x00000252653CDA58>, <Action.HIT: 0>): 0.0, (<src.state.State object at 0x00000252653CD828>, <Action.STICK: 1>): -1.0, (<src.state.State object at 0x00000252653CDF28>, <Action.HIT: 0>): 0.0, (<src.state.State object at 0x00000252653CD9B0>, <Action.STICK: 1>): -1.0, (<src.state.State object at 0x000002526544EC88>, <Action.STICK: 1>): -2.7755575615628914e-17, (<src.state.State object at 0x000002526544E048>, <Action.HIT: 0>): -0.6666666666666666, (<src.state.State object at 0x000002526544E668>, <Action.HIT: 0>): -1.0, (<src.state.State object at 0x000002526544ECF8>, <Action.STICK: 1>): -0.33333333333333337, (<src.state.State object at 0x000002526544E2B0>, <Action.STICK: 1>): -1.0, (<src.state.State object at 0x000002526544EE80>, <Action.STICK: 1>): -0.14285714285714288, (<src.state.State object at 0x000002526544E978>, <Action.HIT: 0>): -0.33333333333333337, (<src.state.State object at 0x000002526544E198>, <Action.STICK: 1>): -1.0, (<src.state.State object at 0x000002526544E4E0>, <Action.STICK: 1>): 1.0, (<src.state.State object at 0x000002526544EA58>, <Action.STICK: 1>): 0.0, (<src.state.State object at 0x000002526544E080>, <Action.HIT: 0>): -0.19999999999999996, (<src.state.State object at 0x000002526544EB70>, <Action.HIT: 0>): -0.3333333333333333, (<src.state.State object at 0x000002526544ECC0>, <Action.STICK: 1>): -1.0, (<src.state.State object at 0x000002526432A320>, <Action.HIT: 0>): -0.2, (<src.state.State object at 0x000002526544E128>, <Action.HIT: 0>): 0.266955266955267, (<src.state.State object at 0x0000025264A42D68>, <Action.STICK: 1>): 0.33333333333333337, (<src.state.State object at 0x0000025264A42A90>, <Action.STICK: 1>): 0.5, (<src.state.State object at 0x0000025264A422E8>, <Action.STICK: 1>): 1.0, (<src.state.State object at 0x0000025264A42940>, <Action.STICK: 1>): 1.0, (<src.state.State object at 0x0000025264A426D8>, <Action.HIT: 0>): -0.4285714285714285, (<src.state.State object at 0x0000025264A42550>, <Action.STICK: 1>): -0.3333333333333333, (<src.state.State object at 0x0000025264A429B0>, <Action.STICK: 1>): 0.14285714285714288, (<src.state.State object at 0x0000025264A42F60>, <Action.HIT: 0>): -0.5555555555555556, (<src.state.State object at 0x0000025264A42400>, <Action.STICK: 1>): 1.0, (<src.state.State object at 0x0000025264A42A20>, <Action.STICK: 1>): 0.0, (<src.state.State object at 0x0000025264A42438>, <Action.STICK: 1>): 1.0, (<src.state.State object at 0x0000025264A42F98>, <Action.HIT: 0>): -1.0, (<src.state.State object at 0x0000025264A42198>, <Action.STICK: 1>): -1.0, (<src.state.State object at 0x0000025264A42470>, <Action.STICK: 1>): -1.0, (<src.state.State object at 0x0000025264A42278>, <Action.HIT: 0>): 0.5, (<src.state.State object at 0x0000025264A42518>, <Action.HIT: 0>): -0.7142857142857143, (<src.state.State object at 0x0000025264A423C8>, <Action.STICK: 1>): -0.23076923076923073, (<src.state.State object at 0x000002526544E940>, <Action.STICK: 1>): 0.0, (<src.state.State object at 0x0000025264A42860>, <Action.HIT: 0>): -1.0, (<src.state.State object at 0x000002526427B898>, <Action.STICK: 1>): 0.5, (<src.state.State object at 0x000002526427B320>, <Action.STICK: 1>): -0.3333333333333333, (<src.state.State object at 0x000002526427B278>, <Action.HIT: 0>): 0.25, (<src.state.State object at 0x000002526427BCC0>, <Action.STICK: 1>): 0.75, (<src.state.State object at 0x000002526427B6A0>, <Action.STICK: 1>): 1.0, (<src.state.State object at 0x000002526427B5F8>, <Action.HIT: 0>): 0.33333333333333337, (<src.state.State object at 0x000002526427B198>, <Action.HIT: 0>): -1.0, (<src.state.State object at 0x000002526427B6D8>, <Action.STICK: 1>): -0.11111111111111113, (<src.state.State object at 0x000002526427BEF0>, <Action.HIT: 0>): -0.75, (<src.state.State object at 0x000002526427B550>, <Action.HIT: 0>): 1.0, (<src.state.State object at 0x000002526427BE48>, <Action.STICK: 1>): 0.6666666666666666, (<src.state.State object at 0x000002526427BD68>, <Action.STICK: 1>): -2.7755575615628914e-17, (<src.state.State object at 0x000002526427BAC8>, <Action.HIT: 0>): 1.0, (<src.state.State object at 0x000002526427B240>, <Action.STICK: 1>): 0.3333333333333333, (<src.state.State object at 0x000002526427BDD8>, <Action.STICK: 1>): 0.33333333333333326, (<src.state.State object at 0x000002526427B978>, <Action.STICK: 1>): -0.5, (<src.state.State object at 0x0000025264A42898>, <Action.HIT: 0>): -0.125, (<src.state.State object at 0x000002526427BE10>, <Action.STICK: 1>): -0.1111111111111111, (<src.state.State object at 0x0000025265455F28>, <Action.STICK: 1>): 1.0, (<src.state.State object at 0x0000025264A07A90>, <Action.HIT: 0>): 0.0, (<src.state.State object at 0x00000252654551D0>, <Action.HIT: 0>): -1.0, (<src.state.State object at 0x0000025265455B00>, <Action.STICK: 1>): -0.2, (<src.state.State object at 0x0000025265455470>, <Action.STICK: 1>): 1.0, (<src.state.State object at 0x0000025265455320>, <Action.STICK: 1>): -0.1428571428571429, (<src.state.State object at 0x0000025265455E10>, <Action.STICK: 1>): 1.0, (<src.state.State object at 0x00000252654554A8>, <Action.STICK: 1>): 0.2, (<src.state.State object at 0x00000252654559B0>, <Action.STICK: 1>): 0.0, (<src.state.State object at 0x0000025265455160>, <Action.STICK: 1>): 1.0, (<src.state.State object at 0x0000025265455A58>, <Action.HIT: 0>): 0.0, (<src.state.State object at 0x0000025265455C88>, <Action.STICK: 1>): 0.0, (<src.state.State object at 0x0000025265455240>, <Action.STICK: 1>): 0.4285714285714286, (<src.state.State object at 0x0000025265455C50>, <Action.HIT: 0>): -1.0, (<src.state.State object at 0x00000252654557F0>, <Action.HIT: 0>): 0.0, (<src.state.State object at 0x0000025265455208>, <Action.HIT: 0>): -1.0, (<src.state.State object at 0x0000025265455EB8>, <Action.HIT: 0>): -0.25, (<src.state.State object at 0x0000025264A074E0>, <Action.STICK: 1>): 1.0, (<src.state.State object at 0x0000025265455400>, <Action.STICK: 1>): -0.3333333333333333, (<src.state.State object at 0x0000025265455748>, <Action.HIT: 0>): -0.33333333333333326, (<src.state.State object at 0x0000025263548B70>, <Action.HIT: 0>): -1.0, (<src.state.State object at 0x00000252653C29E8>, <Action.STICK: 1>): -1.0, (<src.state.State object at 0x00000252653C2390>, <Action.STICK: 1>): 1.0, (<src.state.State object at 0x00000252653C2518>, <Action.HIT: 0>): 1.0, (<src.state.State object at 0x00000252653C2198>, <Action.STICK: 1>): -0.25, (<src.state.State object at 0x00000252653C2B00>, <Action.STICK: 1>): 0.33333333333333337, (<src.state.State object at 0x00000252653C2470>, <Action.STICK: 1>): 0.0, (<src.state.State object at 0x00000252653C2278>, <Action.HIT: 0>): 0.1466666666666667, (<src.state.State object at 0x00000252653C2BA8>, <Action.STICK: 1>): 1.0, (<src.state.State object at 0x00000252653C2BE0>, <Action.HIT: 0>): -0.19999999999999996, (<src.state.State object at 0x00000252653C24E0>, <Action.HIT: 0>): 0.0, (<src.state.State object at 0x00000252653C2CF8>, <Action.STICK: 1>): 0.6, (<src.state.State object at 0x00000252653C2E48>, <Action.STICK: 1>): -0.49999999999999994, (<src.state.State object at 0x0000025264535A58>, <Action.HIT: 0>): 1.0, (<src.state.State object at 0x00000252653C2668>, <Action.STICK: 1>): 1.0, (<src.state.State object at 0x00000252649A3D30>, <Action.HIT: 0>): 1.0, (<src.state.State object at 0x00000252649A30B8>, <Action.STICK: 1>): 1.0, (<src.state.State object at 0x00000252649A3518>, <Action.STICK: 1>): 1.0, (<src.state.State object at 0x00000252649A3390>, <Action.HIT: 0>): 1.0, (<src.state.State object at 0x00000252653C2D30>, <Action.HIT: 0>): 1.0, (<src.state.State object at 0x0000025264CB52B0>, <Action.STICK: 1>): 1.0, (<src.state.State object at 0x000002526516DCC0>, <Action.HIT: 0>): -1.0, (<src.state.State object at 0x00000252649A3B38>, <Action.STICK: 1>): -1.0, (<src.state.State object at 0x000002526516DB38>, <Action.HIT: 0>): -0.3333333333333333, (<src.state.State object at 0x000002526516DBE0>, <Action.HIT: 0>): 0.0, (<src.state.State object at 0x000002526516D358>, <Action.HIT: 0>): -1.0, (<src.state.State object at 0x000002526516D780>, <Action.HIT: 0>): 0.125, (<src.state.State object at 0x000002526516D828>, <Action.HIT: 0>): -0.28571428571428564, (<src.state.State object at 0x000002526516D6A0>, <Action.STICK: 1>): 0.33333333333333326, (<src.state.State object at 0x000002526516DD30>, <Action.STICK: 1>): 1.0, (<src.state.State object at 0x000002526516D7B8>, <Action.STICK: 1>): 0.5, (<src.state.State object at 0x000002526516D470>, <Action.HIT: 0>): 1.0, (<src.state.State object at 0x000002526516D860>, <Action.STICK: 1>): 1.0, (<src.state.State object at 0x000002526516D048>, <Action.HIT: 0>): 0.0, (<src.state.State object at 0x000002526516D320>, <Action.STICK: 1>): -1.0, (<src.state.State object at 0x000002526516DC88>, <Action.STICK: 1>): 0.2, (<src.state.State object at 0x000002526516D278>, <Action.HIT: 0>): 0.0, (<src.state.State object at 0x000002526516D438>, <Action.STICK: 1>): -1.0, (<src.state.State object at 0x00000252649A39B0>, <Action.STICK: 1>): 1.0, (<src.state.State object at 0x000002526516DF98>, <Action.HIT: 0>): -1.0, (<src.state.State object at 0x0000025265316E10>, <Action.STICK: 1>): 1.0, (<src.state.State object at 0x00000252653169E8>, <Action.HIT: 0>): 1.0, (<src.state.State object at 0x0000025265316B00>, <Action.STICK: 1>): -1.0, (<src.state.State object at 0x0000025265316FD0>, <Action.HIT: 0>): -1.0, (<src.state.State object at 0x00000252653163C8>, <Action.HIT: 0>): 0.0, (<src.state.State object at 0x0000025265316710>, <Action.HIT: 0>): 0.5, (<src.state.State object at 0x0000025265316BE0>, <Action.HIT: 0>): 1.0, (<src.state.State object at 0x0000025265316668>, <Action.STICK: 1>): 1.0, (<src.state.State object at 0x0000025265316470>, <Action.HIT: 0>): -1.0, (<src.state.State object at 0x0000025265316B70>, <Action.HIT: 0>): 0.5, (<src.state.State object at 0x0000025265316A58>, <Action.STICK: 1>): 1.0, (<src.state.State object at 0x0000025265316CF8>, <Action.HIT: 0>): 0.0, (<src.state.State object at 0x0000025265316400>, <Action.STICK: 1>): 0.6, (<src.state.State object at 0x0000025265316198>, <Action.STICK: 1>): 0.19999999999999996, (<src.state.State object at 0x00000252653162B0>, <Action.HIT: 0>): -1.0, (<src.state.State object at 0x000002526516D9B0>, <Action.HIT: 0>): -1.0, (<src.state.State object at 0x0000025265316630>, <Action.HIT: 0>): -0.3333333333333333, (<src.state.State object at 0x00000252651E3EB8>, <Action.STICK: 1>): -2.7755575615628914e-17, (<src.state.State object at 0x00000252651E3DA0>, <Action.STICK: 1>): 0.0, (<src.state.State object at 0x0000025265316F60>, <Action.HIT: 0>): -1.0, (<src.state.State object at 0x0000025265429668>, <Action.STICK: 1>): 1.0, (<src.state.State object at 0x0000025265429898>, <Action.HIT: 0>): -0.5, (<src.state.State object at 0x00000252654298D0>, <Action.HIT: 0>): 0.0, (<src.state.State object at 0x0000025265429D68>, <Action.HIT: 0>): 1.0, (<src.state.State object at 0x0000025265429BA8>, <Action.STICK: 1>): 1.0, (<src.state.State object at 0x0000025265429B38>, <Action.HIT: 0>): -1.0, (<src.state.State object at 0x00000252635855F8>, <Action.HIT: 0>): 1.0, (<src.state.State object at 0x0000025265429198>, <Action.STICK: 1>): -1.0, (<src.state.State object at 0x0000025264426128>, <Action.STICK: 1>): -0.4285714285714285, (<src.state.State object at 0x0000025264426A20>, <Action.HIT: 0>): -0.5, (<src.state.State object at 0x00000252644264A8>, <Action.HIT: 0>): 1.0, (<src.state.State object at 0x0000025264426588>, <Action.HIT: 0>): 0.0, (<src.state.State object at 0x0000025264426F28>, <Action.STICK: 1>): 1.0, (<src.state.State object at 0x0000025264426BE0>, <Action.STICK: 1>): 1.0, (<src.state.State object at 0x0000025264426438>, <Action.STICK: 1>): -1.0, (<src.state.State object at 0x0000025264426EB8>, <Action.HIT: 0>): 0.0, (<src.state.State object at 0x00000252644269B0>, <Action.STICK: 1>): 1.0, (<src.state.State object at 0x0000025264426278>, <Action.STICK: 1>): -1.0, (<src.state.State object at 0x0000025264426DD8>, <Action.HIT: 0>): -1.0, (<src.state.State object at 0x0000025264426CF8>, <Action.STICK: 1>): 1.0, (<src.state.State object at 0x0000025264426828>, <Action.STICK: 1>): 1.0, (<src.state.State object at 0x00000252644261D0>, <Action.STICK: 1>): 1.0, (<src.state.State object at 0x0000025265429518>, <Action.STICK: 1>): 1.0, (<src.state.State object at 0x0000025264426198>, <Action.HIT: 0>): -1.0, (<src.state.State object at 0x00000252643E99E8>, <Action.STICK: 1>): 1.0, (<src.state.State object at 0x00000252643E9A58>, <Action.HIT: 0>): 1.0, (<src.state.State object at 0x00000252643E9550>, <Action.HIT: 0>): -1.0, (<src.state.State object at 0x00000252643E9048>, <Action.HIT: 0>): -1.0, (<src.state.State object at 0x00000252643E9080>, <Action.HIT: 0>): 1.0, (<src.state.State object at 0x00000252643E9198>, <Action.HIT: 0>): -1.0, (<src.state.State object at 0x00000252643E9E48>, <Action.STICK: 1>): 1.0, (<src.state.State object at 0x00000252643E9400>, <Action.STICK: 1>): 0.0, (<src.state.State object at 0x00000252643E9B70>, <Action.STICK: 1>): 0.6666666666666667, (<src.state.State object at 0x00000252643E9F28>, <Action.STICK: 1>): -0.5, (<src.state.State object at 0x00000252643E96D8>, <Action.STICK: 1>): 0.0, (<src.state.State object at 0x00000252643E9E80>, <Action.STICK: 1>): -1.0, (<src.state.State object at 0x00000252643E9518>, <Action.HIT: 0>): -1.0, (<src.state.State object at 0x00000252643E9390>, <Action.HIT: 0>): 1.0, (<src.state.State object at 0x00000252643E9908>, <Action.STICK: 1>): 1.0, (<src.state.State object at 0x00000252643E9B00>, <Action.STICK: 1>): 1.0, (<src.state.State object at 0x00000252643E9828>, <Action.HIT: 0>): -1.0, (<src.state.State object at 0x00000252643E9748>, <Action.STICK: 1>): 1.0, (<src.state.State object at 0x00000252643E9B38>, <Action.HIT: 0>): -1.0, (<src.state.State object at 0x00000252643E9DD8>, <Action.HIT: 0>): 0.5, (<src.state.State object at 0x00000252643E9630>, <Action.STICK: 1>): 1.0, (<src.state.State object at 0x0000025264426CC0>, <Action.HIT: 0>): -1.0, (<src.state.State object at 0x00000252643E92B0>, <Action.HIT: 0>): -0.5, (<src.state.State object at 0x000002526545E6D8>, <Action.HIT: 0>): -1.0, (<src.state.State object at 0x00000252643E9898>, <Action.STICK: 1>): -1.0, (<src.state.State object at 0x00000252650FA7F0>, <Action.HIT: 0>): -1.0, (<src.state.State object at 0x000002526545E9E8>, <Action.HIT: 0>): -1.0})\n"
     ]
    }
   ],
   "source": [
    "print(str(Q))"
   ]
  },
  {
   "cell_type": "code",
   "execution_count": 49,
   "metadata": {},
   "outputs": [
    {
     "output_type": "execute_result",
     "data": {
      "text/plain": [
       "0.0"
      ]
     },
     "metadata": {},
     "execution_count": 49
    }
   ],
   "source": [
    "diff"
   ]
  },
  {
   "cell_type": "code",
   "execution_count": 50,
   "metadata": {},
   "outputs": [
    {
     "output_type": "execute_result",
     "data": {
      "text/plain": [
       "1001"
      ]
     },
     "metadata": {},
     "execution_count": 50
    }
   ],
   "source": [
    "iterations"
   ]
  },
  {
   "cell_type": "code",
   "execution_count": 4,
   "metadata": {},
   "outputs": [],
   "source": [
    "state = State.init()"
   ]
  },
  {
   "cell_type": "code",
   "execution_count": 5,
   "metadata": {},
   "outputs": [
    {
     "output_type": "execute_result",
     "data": {
      "text/plain": [
       "'State: Player - 9, Dealer - Card: BLACK 3'"
      ]
     },
     "metadata": {},
     "execution_count": 5
    }
   ],
   "source": [
    "str(state)"
   ]
  },
  {
   "cell_type": "code",
   "execution_count": 27,
   "metadata": {},
   "outputs": [],
   "source": [
    "state = State.init()\n",
    "while not isinstance(state, TerminalState):\n",
    "    action = monte_carlo_player.take_action(state)\n",
    "    state_prime, reward = step(state, action)\n",
    "    monte_carlo_player.update(state, action, state_prime, reward)\n",
    "    state = state_prime"
   ]
  },
  {
   "cell_type": "code",
   "execution_count": 28,
   "metadata": {},
   "outputs": [
    {
     "output_type": "stream",
     "name": "stdout",
     "text": [
      "State: Player - 4, Dealer - Card: BLACK 2\n-1\n"
     ]
    }
   ],
   "source": [
    "print(str(state))\n",
    "print(reward)"
   ]
  },
  {
   "cell_type": "code",
   "execution_count": 29,
   "metadata": {},
   "outputs": [
    {
     "output_type": "execute_result",
     "data": {
      "text/plain": [
       "-1"
      ]
     },
     "metadata": {},
     "execution_count": 29
    }
   ],
   "source": [
    "reward"
   ]
  },
  {
   "cell_type": "code",
   "execution_count": null,
   "metadata": {},
   "outputs": [],
   "source": []
  },
  {
   "cell_type": "code",
   "execution_count": null,
   "metadata": {},
   "outputs": [],
   "source": []
  }
 ],
 "metadata": {
  "kernelspec": {
   "name": "python373jvsc74a57bd051839ab8f63d9edfadfea9c814c5e723084b5df06410568a5a6556dd411abc52",
   "display_name": "Python 3.7.3 64-bit ('base': conda)"
  }
 },
 "nbformat": 4,
 "nbformat_minor": 4
}